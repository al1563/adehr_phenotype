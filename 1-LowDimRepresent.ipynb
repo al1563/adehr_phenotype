{
 "cells": [
  {
   "cell_type": "code",
   "execution_count": null,
   "metadata": {},
   "outputs": [],
   "source": [
    "import pandas as pd\n",
    "import seaborn as sns\n",
    "%matplotlib inline\n",
    "import matplotlib.pyplot as plt\n",
    "import numpy as np\n",
    "import os\n",
    "import re\n",
    "import umap\n",
    "from scipy import stats\n",
    "pd.set_option('display.max_rows', 50)\n",
    "np.set_printoptions(threshold=50)\n",
    "\n",
    "## If you see \"ModuleNotFoundError\" (e.g., ModuleNotFoundError: No module named 'umap'), \n",
    "## then pip install the module (e.g., pip install umap)"
   ]
  },
  {
   "cell_type": "code",
   "execution_count": null,
   "metadata": {},
   "outputs": [],
   "source": [
    "basedir = os.getcwd()\n",
    "datadir = os.path.join(basedir,'Data')"
   ]
  },
  {
   "cell_type": "markdown",
   "metadata": {},
   "source": [
    "# Prepare Data"
   ]
  },
  {
   "cell_type": "code",
   "execution_count": null,
   "metadata": {},
   "outputs": [],
   "source": [
    "total_alz = 8804 #Total alzheimer patients\n",
    "total_con = 17608 #Total control patients"
   ]
  },
  {
   "cell_type": "code",
   "execution_count": null,
   "metadata": {},
   "outputs": [],
   "source": [
    "# Get Alzheimer's Disease diagnosis information\n",
    "alzcohort = pd.read_csv(os.path.join(datadir, 'ad_demographics.csv'));\n",
    "alzdiag = pd.read_csv(os.path.join(datadir, 'ad_diagnosis.csv'))\n",
    "\n",
    "# Get Control diagnosis information\n",
    "concohort = pd.read_csv(os.path.join(datadir, 'control_demographics.csv'));\n",
    "condiag = pd.read_csv(os.path.join(datadir, 'control_diagnosis.csv'))"
   ]
  },
  {
   "cell_type": "markdown",
   "metadata": {},
   "source": [
    "### Make pivot tables"
   ]
  },
  {
   "cell_type": "code",
   "execution_count": null,
   "metadata": {},
   "outputs": [],
   "source": [
    "# each row is a patient, each column is diagnosis, 1 if patient has diagnosis, 0 otherwise\n",
    "# # Takes a few minutes\n",
    "n = 'DiagnosisName'\n",
    "alzdiag_pivot = pd.pivot_table(alzdiag[[n, 'PatientID']].drop_duplicates(), \n",
    "         values = [n], index = 'PatientID', columns = [n],\n",
    "         aggfunc = lambda x: 1 if len(x)>0 else 0, fill_value = 0)\n",
    "alzdiag_pivot['isAD'] = 1\n",
    "alzdiag_pivot"
   ]
  },
  {
   "cell_type": "code",
   "execution_count": null,
   "metadata": {},
   "outputs": [],
   "source": [
    "n = 'DiagnosisName'\n",
    "condiag_pivot = pd.pivot_table(condiag[[n, 'PatientID']].drop_duplicates(), \n",
    "         values = [n], index = 'PatientID', columns = [n],\n",
    "         aggfunc = lambda x: 1 if len(x)>0 else 0, fill_value = 0)\n",
    "condiag_pivot['isAD'] = 0\n",
    "condiag_pivot"
   ]
  },
  {
   "cell_type": "code",
   "execution_count": null,
   "metadata": {},
   "outputs": [],
   "source": [
    "alldiag_pivot = pd.concat([alzdiag_pivot, condiag_pivot], axis=0)"
   ]
  },
  {
   "cell_type": "markdown",
   "metadata": {},
   "source": [
    "### Drop columns"
   ]
  },
  {
   "cell_type": "code",
   "execution_count": null,
   "metadata": {
    "scrolled": true
   },
   "outputs": [],
   "source": [
    "colstodrop = alldiag_pivot.columns[alldiag_pivot.columns.str.contains('alzheimer', flags=re.IGNORECASE)]\n",
    "colstodrop"
   ]
  },
  {
   "cell_type": "code",
   "execution_count": null,
   "metadata": {},
   "outputs": [],
   "source": [
    "alldiag_pivot = alldiag_pivot.drop(colstodrop, axis=1)"
   ]
  },
  {
   "cell_type": "markdown",
   "metadata": {},
   "source": [
    "### Add demographic"
   ]
  },
  {
   "cell_type": "code",
   "execution_count": null,
   "metadata": {},
   "outputs": [],
   "source": [
    "demographic_cols = ['PatientID','Age','Sex','Race','Death_Status']\n",
    "alldiag_pivot = alldiag_pivot.merge(pd.concat([alzcohort[demographic_cols], \n",
    "                                        concohort[demographic_cols]]).set_index('PatientID'),\n",
    "                how = 'left', left_index = True, right_index = True)\n",
    "alldiag_pivot = alldiag_pivot.fillna(0)"
   ]
  },
  {
   "cell_type": "markdown",
   "metadata": {},
   "source": [
    "# Dimensionality Reduction"
   ]
  },
  {
   "cell_type": "code",
   "execution_count": null,
   "metadata": {},
   "outputs": [],
   "source": [
    "y = alldiag_pivot['isAD'].replace({1:'Alzheimer',0:'Control'})\n",
    "demographic_cols.remove('PatientID')\n",
    "z = alldiag_pivot[demographic_cols]\n",
    "X = alldiag_pivot.drop('isAD', axis=1).drop(demographic_cols, axis=1).astype('int32')"
   ]
  },
  {
   "cell_type": "code",
   "execution_count": null,
   "metadata": {
    "scrolled": true
   },
   "outputs": [],
   "source": [
    "%%time\n",
    "mapper = umap.UMAP(metric='cosine', random_state=42, low_memory=True, verbose = 1).fit(X)"
   ]
  },
  {
   "cell_type": "code",
   "execution_count": null,
   "metadata": {},
   "outputs": [],
   "source": [
    "import pickle\n",
    "\n",
    "filename = 'AD_umap_model.pkl'\n",
    "\n",
    "# save the model to disk\n",
    "pickle.dump(mapper, open(filename, 'wb'))\n",
    "\n",
    "# load file\n",
    "# mapper = pickle.load(open(filename, 'rb'))"
   ]
  },
  {
   "cell_type": "code",
   "execution_count": null,
   "metadata": {},
   "outputs": [],
   "source": [
    "X_embedded = mapper.transform(X)\n",
    "savefigs = False"
   ]
  },
  {
   "cell_type": "code",
   "execution_count": null,
   "metadata": {
    "scrolled": true
   },
   "outputs": [],
   "source": [
    "with sns.color_palette(\"Set1\"):\n",
    "    fig = plt.figure(figsize=(10,8))\n",
    "    reordered_indices = np.arange(X_embedded.shape[0])\n",
    "    np.random.shuffle(reordered_indices)\n",
    "    sns.scatterplot(x = X_embedded[reordered_indices ,0], y = X_embedded[reordered_indices ,1], \n",
    "                    hue = y[reordered_indices].values, \n",
    "                    s=5, linewidth = .0, alpha = .6,\n",
    "                    hue_order = ['Alzheimer','Control']\n",
    "                   )\n",
    "    ax = plt.gca()\n",
    "    ax.set(xticks=[], yticks=[], facecolor='white');\n",
    "    plt.title('Diagnosis as Features - UMAP')\n",
    "    \n",
    "    if savefigs:\n",
    "        plt.savefig('full_AD_Control_UMAP.pdf', filetype = 'pdf', dpi = 300, bbox_inches='tight')"
   ]
  },
  {
   "cell_type": "code",
   "execution_count": null,
   "metadata": {},
   "outputs": [],
   "source": [
    "from scipy.stats import mannwhitneyu\n",
    "ADvals = X_embedded[y.values == 'Alzheimer',:]\n",
    "convals = X_embedded[y.values == 'Control',:]\n",
    "print('Axis 1: ',mannwhitneyu(ADvals[:,0], convals[:,0]))\n",
    "print('Axis 2: ', mannwhitneyu(ADvals[:,1], convals[:,1]))"
   ]
  },
  {
   "cell_type": "code",
   "execution_count": null,
   "metadata": {},
   "outputs": [],
   "source": [
    "with sns.axes_style(\"darkgrid\"):\n",
    "    with sns.color_palette(\"Set1\"):\n",
    "        plt.figure(figsize = (5,3))\n",
    "        sns.violinplot(x = X_embedded[:,0], y = y.replace({True:'Alzheimer',False:'Control'}).values, bw = .1); \n",
    "        plt.xlabel('PC1');  \n",
    "        if savefigs:\n",
    "            plt.savefig('AD-ConUMAPPC1.pdf', filetype = 'pdf', dpi = 300, bbox_inches='tight')\n",
    "        \n",
    "        plt.figure(figsize = (5,3))\n",
    "        sns.violinplot(x = X_embedded[:,1], y = y.replace({True:'Alzheimer',False:'Control'}).values, bw = .1); \n",
    "        plt.xlabel('PC2');\n",
    "        if savefigs: \n",
    "            plt.savefig('AD-ConUMAPPC2.pdf', filetype = 'pdf', dpi = 300, bbox_inches='tight')\n"
   ]
  },
  {
   "cell_type": "markdown",
   "metadata": {},
   "source": [
    "### Sex"
   ]
  },
  {
   "cell_type": "code",
   "execution_count": null,
   "metadata": {},
   "outputs": [],
   "source": [
    "col = 'Sex'\n",
    "\n",
    "fig = plt.figure(figsize=(8,6))\n",
    "sns.scatterplot(x = X_embedded[:,0], y = X_embedded[:,1], hue = z[col].values, s = 5, linewidth = 0,\n",
    "                alpha = .6, palette = 'hls')\n",
    "ax = plt.gca()\n",
    "ax.set(xticks=[], yticks=[], facecolor='white');\n",
    "plt.text(9,14.3,'Sex', fontsize = 12, fontweight = 'bold')\n",
    "if savefigs: \n",
    "    plt.savefig('AD-ConUMAP-sex.pdf', filetype = 'pdf', dpi = 300, bbox_inches='tight')\n",
    "plt.show()\n",
    "\n",
    "with sns.color_palette(\"hls\", 3):\n",
    "    val1 = X_embedded[z[col].values == 'Female',:]\n",
    "    val2 = X_embedded[z[col].values == 'Male',:]\n",
    "    \n",
    "    sns.violinplot(x = X_embedded[:,0], y = z[col], bw = .1, order = ['Male', 'Female']); plt.xlabel('PC1'); \n",
    "    if savefigs:\n",
    "        plt.savefig('AD-ConUMAP_PC1_SEX.pdf', filetype = 'pdf', dpi = 300, bbox_inches='tight'); plt.show()\n",
    "    \n",
    "    sns.violinplot(x = X_embedded[:,1], y = z[col], bw = .1, order = ['Male', 'Female']); plt.xlabel('PC2');\n",
    "    if savefigs: \n",
    "        plt.savefig('AD-ConUMAP_PC2_SEX.pdf', filetype = 'pdf', dpi = 300, bbox_inches='tight'); plt.show()\n"
   ]
  },
  {
   "cell_type": "markdown",
   "metadata": {},
   "source": [
    "### Age"
   ]
  },
  {
   "cell_type": "code",
   "execution_count": null,
   "metadata": {},
   "outputs": [],
   "source": [
    "col = 'Age'\n",
    "\n",
    "fig = plt.figure(figsize=(8,6))\n",
    "sns.scatterplot(x = X_embedded[:,0], y = X_embedded[:,1], hue = z[col].values, s = 5, linewidth = 0,\n",
    "               palette = 'mako', hue_norm = (65,95), alpha = .6)\n",
    "ax = plt.gca()\n",
    "ax.set(xticks=[], yticks=[], facecolor='white');\n",
    "plt.text(9,14.3,'Age', fontsize = 12, fontweight = 'bold')\n",
    "if savefigs: \n",
    "    plt.savefig('AD-ConUMAP-age.pdf', filetype = 'pdf', dpi = 300, bbox_inches='tight')\n",
    "plt.show()\n",
    "\n",
    "with sns.color_palette(\"Dark2\"):\n",
    "    g = sns.jointplot(y = X_embedded[:,0], x = z[col], kind = 'hex', height = 5,\n",
    "                      ratio = 10,  joint_kws = {'gridsize':20}, color = '#049372', alpha = .7)\n",
    "    g.plot_joint(sns.regplot, x_jitter = .2, y_jitter = .4,\n",
    "                 ci = 95, scatter_kws = {'s':1, 'alpha':.3, 'zorder':0}, line_kws = {'color':'#1f7a1f'})\n",
    "    plt.ylabel('PC1'); g.fig.set_figwidth(6); \n",
    "    if savefigs: \n",
    "        plt.savefig('AD-ConUMAP_PC1_age.pdf', filetype = 'pdf', dpi = 300, bbox_inches='tight'); plt.show()\n",
    "    print(\"pearson: r/pval {}\".format(stats.pearsonr(z[col], X_embedded[:,0])))\n",
    "\n",
    "    g = sns.jointplot(y= X_embedded[:,1], x = z[col], kind = 'hex', height = 5,\n",
    "                      ratio = 10,  joint_kws = {'gridsize':20}, color = '#049372', alpha = .7)\n",
    "    g.plot_joint(sns.regplot, x_jitter = .2, y_jitter = .4,\n",
    "                 ci = 95, scatter_kws = {'s':1, 'alpha':.3, 'zorder':0}, line_kws = {'color':'#1f7a1f'})\n",
    "    plt.ylabel('PC2'); g.fig.set_figwidth(6); \n",
    "    if savefigs: \n",
    "        plt.savefig('AD-ConUMAP_PC2_age.pdf', filetype = 'pdf', dpi = 300, bbox_inches='tight'); plt.show()\n",
    "    print(\"pearson: r/pval {}\".format(stats.pearsonr(z[col],X_embedded[:,1])))"
   ]
  },
  {
   "cell_type": "markdown",
   "metadata": {},
   "source": [
    "### DeathStatus"
   ]
  },
  {
   "cell_type": "code",
   "execution_count": null,
   "metadata": {},
   "outputs": [],
   "source": [
    "col = 'Death_Status'\n",
    "\n",
    "fig = plt.figure(figsize=(8,6))\n",
    "sns.scatterplot(x = X_embedded[reordered_indices,0], y = X_embedded[reordered_indices,1], \n",
    "                hue = z[col].values[reordered_indices], s = 5, linewidth = 0,\n",
    "                alpha = .6, palette = 'Set2')\n",
    "ax = plt.gca()\n",
    "ax.set(xticks=[], yticks=[], facecolor='white');\n",
    "plt.text(7.2,14.3,'Death Status', fontsize = 12, fontweight = 'bold')\n",
    "if savefigs: \n",
    "    plt.savefig('AD-ConUMAP-status.pdf', filetype = 'pdf', dpi = 300, bbox_inches='tight')\n",
    "plt.show()\n",
    "\n",
    "\n",
    "with sns.color_palette(\"Set2\"):\n",
    "    sns.violinplot(x = X_embedded[:,0], y = z[col], bw = .1); plt.xlabel('PC1'); \n",
    "    plt.text(-1,2,stats.mannwhitneyu(val1[:,0], val2[:,0])); \n",
    "    if savefigs: \n",
    "        plt.savefig('AD-ConUMAP_PC1_death.pdf', filetype = 'pdf', dpi = 300, bbox_inches='tight'); plt.show()\n",
    "    \n",
    "    sns.violinplot(x = X_embedded[:,1], y = z[col], bw = .1); plt.xlabel('PC2');\n",
    "    print(stats.mannwhitneyu(val1[:,1], val2[:,1])); \n",
    "    if savefigs: \n",
    "        plt.savefig('AD-ConUMAP_PC2_death.pdf', filetype = 'pdf', dpi = 300, bbox_inches='tight'); plt.show()\n"
   ]
  },
  {
   "cell_type": "code",
   "execution_count": null,
   "metadata": {},
   "outputs": [],
   "source": []
  }
 ],
 "metadata": {
  "kernelspec": {
   "display_name": "Python 3 (ipykernel)",
   "language": "python",
   "name": "python3"
  },
  "language_info": {
   "codemirror_mode": {
    "name": "ipython",
    "version": 3
   },
   "file_extension": ".py",
   "mimetype": "text/x-python",
   "name": "python",
   "nbconvert_exporter": "python",
   "pygments_lexer": "ipython3",
   "version": "3.8.12"
  },
  "toc": {
   "base_numbering": 1,
   "nav_menu": {},
   "number_sections": true,
   "sideBar": true,
   "skip_h1_title": false,
   "title_cell": "Table of Contents",
   "title_sidebar": "Contents",
   "toc_cell": true,
   "toc_position": {},
   "toc_section_display": true,
   "toc_window_display": false
  }
 },
 "nbformat": 4,
 "nbformat_minor": 4
}
