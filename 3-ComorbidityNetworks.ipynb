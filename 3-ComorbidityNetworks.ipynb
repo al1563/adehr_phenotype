{
 "cells": [
  {
   "cell_type": "code",
   "execution_count": null,
   "metadata": {},
   "outputs": [],
   "source": [
    "from collections import defaultdict\n",
    "import pandas as pd\n",
    "import seaborn as sns\n",
    "%matplotlib inline\n",
    "import matplotlib.pyplot as plt\n",
    "import numpy as np\n",
    "import os\n",
    "from scipy.stats import chi2_contingency, mannwhitneyu\n",
    "from math import log10, log2\n",
    "import itertools\n",
    "\n",
    "import networkx as nx\n",
    "from tqdm import tqdm\n",
    "import pickle\n",
    "\n",
    "pd.set_option('display.max_rows', 500)\n",
    "np.set_printoptions(threshold=500)\n",
    "pd.options.mode.chained_assignment = None  # default='warn'\n",
    "\n",
    "import warnings\n",
    "warnings.filterwarnings(\"default\", category=DeprecationWarning)\n",
    "warnings.filterwarnings(\"ignore\", category=FutureWarning) "
   ]
  },
  {
   "cell_type": "code",
   "execution_count": null,
   "metadata": {},
   "outputs": [],
   "source": [
    "basedir = os.getcwd()\n",
    "datadir = os.path.join(basedir,'Data')\n",
    "diagkeys = ['DiagnosisName','Level3_Category','Level2_Category']\n",
    "\n",
    "%run -i setupfunc.py"
   ]
  },
  {
   "cell_type": "code",
   "execution_count": null,
   "metadata": {},
   "outputs": [],
   "source": [
    "# parameters\n",
    "total_alz = 8804 #Total alzheimer patients\n",
    "total_con = 17608 #Total control patients\n",
    "diagkeys = ['DiagnosisName','level3_diagnosis','level2_diagnosis']\n",
    "cutoff = .01"
   ]
  },
  {
   "cell_type": "markdown",
   "metadata": {},
   "source": [
    "# Alzheimer Patients"
   ]
  },
  {
   "cell_type": "code",
   "execution_count": null,
   "metadata": {},
   "outputs": [],
   "source": [
    "# get the diagnosis\n",
    "alzdiag = pd.read_csv(os.path.join(datadir,'ad_diagnosis.csv'))\n",
    "alzdiag['ValueL'] = alzdiag['Value'].apply(lambda x: ICD10_code_to_chapter(str(x)[0:3])) # Get ICD10 Chapte\n",
    "alzdiagcount = countPtsDiagnosis_Dict(alzdiag, total_alz)\n",
    "numsexalz = {'Female': alzdiag[alzdiag['Sex']=='Female'][['PatientID','Sex']].drop_duplicates().shape[0], \n",
    "          'Male':alzdiag[alzdiag['Sex']=='Male'][['PatientID','Sex']].drop_duplicates().shape[0]}"
   ]
  },
  {
   "cell_type": "code",
   "execution_count": null,
   "metadata": {},
   "outputs": [],
   "source": [
    "n = 'DiagnosisName' # 'DiagnosisName', 'level3_diagnosis','level2_diagnosis'"
   ]
  },
  {
   "cell_type": "code",
   "execution_count": null,
   "metadata": {},
   "outputs": [],
   "source": [
    "# Initialize graph\n",
    "AlzGraph = nx.Graph()\n",
    "# Add nodes to graph\n",
    "alz_nodes = alzdiagcount[n][n]\n",
    "AlzGraph.add_nodes_from(alz_nodes)"
   ]
  },
  {
   "cell_type": "code",
   "execution_count": null,
   "metadata": {},
   "outputs": [],
   "source": [
    "# For each disease, get sex distribution and unique patients\n",
    "print('Count number of patients per node...')\n",
    "diagtemp = alzdiag[['PatientID',n,'Sex']].drop_duplicates()\n",
    "diagtemp = pd.pivot_table(diagtemp, values = ['PatientID','Sex'], index = n,\n",
    "                      aggfunc={ 'PatientID': lambda x: len(x.unique()), \n",
    "                                  'Sex': lambda x: dict(x.value_counts()) })\n",
    "diagtemp = diagtemp.sort_values('PatientID', ascending = False)\n",
    "\n",
    "## Add stats info\n",
    "#with open('alzcon_diagnosis_stats.pickle', 'rb') as handle:\n",
    "#    statsall = pickle.load(handle)\n",
    "#alz_node_attr = alz_node_attr.merge(statsall[n], left_index=True, right_index = True, how = 'left')\n",
    "\n",
    "# Add sex information\n",
    "print('Set Sex as Attributes...')\n",
    "alz_node_attr = diagtemp[diagtemp.index.isin(alz_nodes)]\n",
    "\n",
    "alz_node_attr['Females'] = alz_node_attr['Sex'].apply(lambda lst: 0 if ('Female' not in list(lst.keys())) else lst['Female'])\n",
    "alz_node_attr['pFemale'] = alz_node_attr['Sex']\\\n",
    "    .apply(lambda lst: 0 if ('Female' not in list(lst.keys())) else lst['Female']*100/numsexalz['Female'])\n",
    "alz_node_attr['Males'] = alz_node_attr['Sex'].apply(lambda lst: 0 if ('Male' not in list(lst.keys())) else lst['Male'])\n",
    "alz_node_attr['pMale'] = alz_node_attr['Sex']\\\n",
    "    .apply(lambda lst: 0 if ('Male' not in list(lst.keys())) else lst['Male']*100/numsexalz['Male'])\n",
    "\n",
    "alz_node_attr = alz_node_attr.drop('Sex', axis = 1)\n",
    "alz_node_attr = alz_node_attr.rename(columns = {'PatientID':'PtCount'})\n",
    "\n",
    "## Add stats info\n",
    "#with open('alzcon_diagnosis_stats.pickle', 'rb') as handle:\n",
    "#    statsall = pickle.load(handle)\n",
    "#alz_node_attr = alz_node_attr.merge(statsall[n], left_index=True, right_index = True, how = 'left')\n",
    "\n",
    "print('Adding MF stats information...')\n",
    "with open('alzcon_diagnosis_MF_stats.pickle', 'rb') as handle:\n",
    "    statsMF = pickle.load(handle)\n",
    "alz_node_attr = alz_node_attr.merge(statsMF[n], left_index=True, right_index = True, how = 'left')\n",
    "\n",
    "# expand into 'ValueL2' if diagnosis is part of multiple blocks\n",
    "if((alz_node_attr['ValueL'].apply(lambda x: len(x) if isinstance(x,list) else 1).sum()) == alz_node_attr.shape[0]):\n",
    "    alz_node_attr['ValueL']=alz_node_attr['ValueL'].apply(lambda x: x[0] if isinstance(x,list) else x)\n",
    "else:\n",
    "    alz_node_attr['ValueL2'] = alz_node_attr['ValueL'].apply(lambda x: \",\".join(x[1:]) if(isinstance(x,list) and len(x)>1) else np.nan)\n",
    "    alz_node_attr['ValueL']= alz_node_attr['ValueL'].apply(lambda x: x[0] if isinstance(x,list) else np.nan)\n",
    "    \n",
    "alz_node_attr = alz_node_attr.to_dict(orient = 'index') # Make the columns into a dictionary for node attributes.\n",
    "nx.set_node_attributes(AlzGraph, alz_node_attr)"
   ]
  },
  {
   "cell_type": "code",
   "execution_count": null,
   "metadata": {},
   "outputs": [],
   "source": [
    "print('Create all edges...')\n",
    "\n",
    "# make a dataframe of edges\n",
    "diagtemp = alzdiag[['PatientID',n,'Sex']].drop_duplicates()\n",
    "diagtemp = diagtemp[diagtemp[n].isin(alz_nodes)]\n",
    "grouped = diagtemp.groupby('PatientID')\n",
    "\n",
    "alz_edges = []\n",
    "for k, pt in tqdm(list(grouped)):\n",
    "    combo_list = list(itertools.combinations(pt[n].sort_values(), r=2))\n",
    "    combo_list = [(item,) for item in combo_list]\n",
    "    combo_df = pd.DataFrame(combo_list, columns = [n+ 'Combo']).drop_duplicates()\n",
    "    df_len = combo_df.shape[0]\n",
    "    combo_df['PatientID'] = pt['PatientID'].values[0];\n",
    "    combo_df['Sex'] = pt['Sex'].values[0];\n",
    "    alz_edges.append(combo_df)\n",
    "\n",
    "alz_edges = pd.concat(alz_edges).reset_index(drop = True)\n",
    "\n",
    "# Add to graph\n",
    "AlzGraph.add_edges_from(alz_edges[n+'Combo'])"
   ]
  },
  {
   "cell_type": "code",
   "execution_count": null,
   "metadata": {},
   "outputs": [],
   "source": [
    "# Count the number of patient for each edge. \n",
    "# Can take at least an hour to run\n",
    "diagtemp = alz_edges\n",
    "diagtemp = pd.pivot_table(diagtemp, values = ['PatientID','Sex'], index = n+'Combo',\n",
    "                      aggfunc={\n",
    "                              'PatientID': lambda x: len(x.unique()), \n",
    "                              'Sex': lambda x: dict(x.value_counts())\n",
    "                              })\n",
    "\n",
    "print('sorting...')\n",
    "diagtemp = diagtemp.sort_values('PatientID', ascending = False)"
   ]
  },
  {
   "cell_type": "code",
   "execution_count": null,
   "metadata": {
    "jupyter": {
     "outputs_hidden": true
    }
   },
   "outputs": [],
   "source": [
    "# Add edge attributes\n",
    "alz_edge_attr = diagtemp;\n",
    "alz_edge_attr['Females'] = alz_edge_attr['Sex'].apply(lambda lst: 0 if ('Female' not in list(lst.keys())) else lst['Female'])\n",
    "alz_edge_attr['pFemale'] = alz_edge_attr['Sex']\\\n",
    "    .apply(lambda lst: 0 if ('Female' not in list(lst.keys())) else lst['Female']*100/numsexalz['Female'])\n",
    "alz_edge_attr['Males'] = alz_edge_attr['Sex'].apply(lambda lst: 0 if ('Male' not in list(lst.keys())) else lst['Male'])\n",
    "alz_edge_attr['pMale'] = alz_edge_attr['Sex']\\\n",
    "    .apply(lambda lst: 0 if ('Male' not in list(lst.keys())) else lst['Male']*100/numsexalz['Male'])\n",
    "\n",
    "alz_edge_attr = alz_edge_attr.drop('Sex', axis = 1)\n",
    "alz_edge_attr = alz_edge_attr.rename(columns = {'PatientID':'PtCount'})\n",
    "\n",
    "print('Keeping edges with ',cutoff*100,'% of patients.')\n",
    "alz_edge_attr = alz_edge_attr[alz_edge_attr['PtCount']>(total_alz * cutoff)]\n",
    "\n",
    "# Make dictionary\n",
    "alz_edge_attr = alz_edge_attr.to_dict(orient = 'index')\n",
    "nx.set_edge_attributes(AlzGraph, alz_edge_attr)\n",
    "\n",
    "print(nx.info(AlzGraph))\n",
    "\n",
    "nx.write_graphml(AlzGraph, n+'graph.graphml')"
   ]
  },
  {
   "cell_type": "markdown",
   "metadata": {},
   "source": [
    "# Control patients"
   ]
  },
  {
   "cell_type": "code",
   "execution_count": null,
   "metadata": {},
   "outputs": [],
   "source": [
    "# Get all control patient diagnosis. \n",
    "condiag = pd.read_csv(os.path.join(datadir,'control_diagnosis.csv'))\n",
    "condiag['ValueL'] = condiag['Value'].apply(lambda x: ICD10_code_to_chapter(str(x)[0:3])) # Get ICD10 Chapte\n",
    "condiagcount = countPtsDiagnosis_Dict(condiag, total_con)\n",
    "numsexcon = {'Female': condiag[condiag['Sex']=='Female'][['PatientID','Sex']].drop_duplicates().shape[0], \n",
    "          'Male':condiag[condiag['Sex']=='Male'][['PatientID','Sex']].drop_duplicates().shape[0]}"
   ]
  },
  {
   "cell_type": "code",
   "execution_count": null,
   "metadata": {},
   "outputs": [],
   "source": [
    "n = 'DiagnosisName' # 'DiagnosisName', 'level3_diagnosis','level2_diagnosis'"
   ]
  },
  {
   "cell_type": "code",
   "execution_count": null,
   "metadata": {},
   "outputs": [],
   "source": [
    "# Initialize graph\n",
    "ConGraph = nx.Graph()\n",
    "\n",
    "# Add nodes to graph\n",
    "con_nodes = condiagcount[n][n]\n",
    "ConGraph.add_nodes_from(con_nodes)"
   ]
  },
  {
   "cell_type": "code",
   "execution_count": null,
   "metadata": {
    "scrolled": true
   },
   "outputs": [],
   "source": [
    "# For each disease, get sex distribution and unique patients\n",
    "print('Count number of patients per node...')\n",
    "diagtemp = condiag[['PatientID',n,'Sex']].drop_duplicates()\n",
    "diagtemp = pd.pivot_table(diagtemp, values = ['PatientID','Sex'], index = n,\n",
    "                      aggfunc={ 'PatientID': lambda x: len(x.unique()), \n",
    "                              'Sex': lambda x: dict(x.value_counts()) })\n",
    "diagtemp = diagtemp.sort_values('PatientID', ascending = False)\n",
    "\n",
    "## Add stats\n",
    "#con_node_attr = con_node_attr.merge(statsall[n], left_index=True, right_index = True, how = 'left')\n",
    "\n",
    "# Node Attributes\n",
    "print('Set Sex as Attributes...')\n",
    "con_node_attr = diagtemp[diagtemp.index.isin(con_nodes)]\n",
    "\n",
    "con_node_attr['Females'] = con_node_attr['Sex'].apply(lambda lst: 0 if ('Female' not in list(lst.keys())) else lst['Female'])\n",
    "con_node_attr['pFemale'] = con_node_attr['Sex']\\\n",
    "    .apply(lambda lst: 0 if ('Female' not in list(lst.keys())) else lst['Female']*100/numsexcon['Female'])\n",
    "con_node_attr['Males'] = con_node_attr['Sex'].apply(lambda lst: 0 if ('Male' not in list(lst.keys())) else lst['Male'])\n",
    "con_node_attr['pMale'] = con_node_attr['Sex']\\\n",
    "    .apply(lambda lst: 0 if ('Male' not in list(lst.keys())) else lst['Male']*100/numsexcon['Male'])\n",
    "con_node_attr = con_node_attr.drop('Sex', axis = 1)\n",
    "con_node_attr = con_node_attr.rename(columns = {'PatientID':'PtCount'})\n",
    "\n",
    "print('Adding MF stats information')\n",
    "con_node_attr = con_node_attr.merge(statsMF[n], left_index=True, right_index = True, how = 'left')\n",
    "\n",
    "# Expand diagnosis to ValueL2 if part of multiple categories\n",
    "if((con_node_attr['ValueL'].apply(lambda x: len(x) if isinstance(x,list) else 1).sum()) == con_node_attr.shape[0]):\n",
    "    con_node_attr['ValueL']=con_node_attr['ValueL'].apply(lambda x: x[0] if isinstance(x,list) else x)\n",
    "else:\n",
    "    con_node_attr['ValueL2'] = con_node_attr['ValueL'].apply(lambda x: \",\".join(x[1:]) if(isinstance(x,list) and len(x)>1) else np.nan)\n",
    "    con_node_attr['ValueL']= con_node_attr['ValueL'].apply(lambda x: x[0] if isinstance(x,list) else np.nan)"
   ]
  },
  {
   "cell_type": "code",
   "execution_count": null,
   "metadata": {},
   "outputs": [],
   "source": [
    "con_node_attr = con_node_attr.to_dict(orient = 'index') # Make the columns into a dictionary for node attributes.\n",
    "nx.set_node_attributes(ConGraph, con_node_attr)"
   ]
  },
  {
   "cell_type": "code",
   "execution_count": null,
   "metadata": {},
   "outputs": [],
   "source": [
    "print('Create all edges...')\n",
    "# make a dataframe of edges\n",
    "diagtemp = condiag[['PatientID',n,'Sex']].drop_duplicates()\n",
    "diagtemp = diagtemp[diagtemp[n].isin(con_nodes)]\n",
    "grouped = diagtemp.groupby('PatientID')\n",
    "\n",
    "con_edges = []\n",
    "for k, pt in tqdm(list(grouped)):\n",
    "    # print(k)\n",
    "    combo_list = list(itertools.combinations(pt[n].sort_values(), r=2))\n",
    "    combo_list = [(item,) for item in combo_list]\n",
    "    combo_df = pd.DataFrame(combo_list, columns = [n+ 'Combo']).drop_duplicates()\n",
    "    df_len = combo_df.shape[0]\n",
    "    combo_df['PatientID'] = pt['PatientID'].values[0];\n",
    "    combo_df['Sex'] = pt['Sex'].values[0];\n",
    "    con_edges.append(combo_df)\n",
    "\n",
    "con_edges = pd.concat(con_edges).reset_index(drop = True)\n",
    "\n",
    "# Add to graph\n",
    "ConGraph.add_edges_from(con_edges[n+'Combo'])"
   ]
  },
  {
   "cell_type": "code",
   "execution_count": null,
   "metadata": {},
   "outputs": [],
   "source": [
    "# Count the number of patient for each edge.\n",
    "diagtemp = con_edges\n",
    "diagtemp = pd.pivot_table(diagtemp, values = ['PatientID','Sex'], index = n+'Combo',\n",
    "                      aggfunc={\n",
    "                              'PatientID': lambda x: len(x.unique()), \n",
    "                              'Sex': lambda x: dict(x.value_counts())\n",
    "                              })\n",
    "\n",
    "print('sorting...')\n",
    "diagtemp = diagtemp.sort_values('PatientID', ascending = False)"
   ]
  },
  {
   "cell_type": "code",
   "execution_count": null,
   "metadata": {},
   "outputs": [],
   "source": [
    "con_edge_attr = diagtemp;\n",
    "con_edge_attr['Females'] = con_edge_attr['Sex'].apply(lambda lst: 0 if ('Female' not in list(lst.keys())) else lst['Female'])\n",
    "con_edge_attr['pFemale'] = con_edge_attr['Sex']\\\n",
    "    .apply(lambda lst: 0 if ('Female' not in list(lst.keys())) else lst['Female']*100/numsexcon['Female'])\n",
    "con_edge_attr['Males'] = con_edge_attr['Sex'].apply(lambda lst: 0 if ('Male' not in list(lst.keys())) else lst['Male'])\n",
    "con_edge_attr['pMale'] = con_edge_attr['Sex']\\\n",
    "    .apply(lambda lst: 0 if ('Male' not in list(lst.keys())) else lst['Male']*100/numsexcon['Male'])\n",
    "                                                    \n",
    "con_edge_attr = con_edge_attr.drop('Sex', axis = 1)\n",
    "con_edge_attr = con_edge_attr.rename(columns = {'PatientID':'PtCount'})\n",
    "\n",
    "print('Keeping edges with ',cutoff*100,'% of patients.')\n",
    "con_edge_attr = con_edge_attr[con_edge_attr['PtCount']>(total_con * cutoff)]\n",
    "\n",
    "# Make dictionary\n",
    "con_edge_attr = con_edge_attr.to_dict(orient = 'index')\n",
    "# Add to attributes\n",
    "nx.set_edge_attributes(ConGraph, con_edge_attr)\n",
    "\n",
    "print(nx.info(ConGraph))\n",
    "nx.write_graphml(ConGraph, n+'graph_control.graphml')"
   ]
  },
  {
   "cell_type": "code",
   "execution_count": null,
   "metadata": {},
   "outputs": [],
   "source": []
  }
 ],
 "metadata": {
  "kernelspec": {
   "display_name": "Python 3 (ipykernel)",
   "language": "python",
   "name": "python3"
  },
  "language_info": {
   "codemirror_mode": {
    "name": "ipython",
    "version": 3
   },
   "file_extension": ".py",
   "mimetype": "text/x-python",
   "name": "python",
   "nbconvert_exporter": "python",
   "pygments_lexer": "ipython3",
   "version": "3.8.12"
  }
 },
 "nbformat": 4,
 "nbformat_minor": 4
}
